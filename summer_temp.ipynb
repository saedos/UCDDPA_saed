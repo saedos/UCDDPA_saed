{
 "cells": [
  {
   "cell_type": "code",
   "execution_count": 1,
   "id": "abd7c3c1-c1b4-4f37-aca8-74c5d2bad54b",
   "metadata": {},
   "outputs": [
    {
     "name": "stdout",
     "output_type": "stream",
     "text": [
      "hello\n"
     ]
    }
   ],
   "source": [
    "print(\"hello\")"
   ]
  },
  {
   "cell_type": "code",
   "execution_count": 2,
   "id": "ffc973e3-860f-480c-af2d-0a92129cfb15",
   "metadata": {},
   "outputs": [
    {
     "name": "stdout",
     "output_type": "stream",
     "text": [
      "some change\n"
     ]
    }
   ],
   "source": [
    "print(\"some change\")"
   ]
  },
  {
   "cell_type": "code",
   "execution_count": 3,
   "id": "fa8afbe3-99b4-443d-9823-031a545ede0e",
   "metadata": {},
   "outputs": [
    {
     "name": "stdout",
     "output_type": "stream",
     "text": [
      "smdsamdsamd\n"
     ]
    }
   ],
   "source": [
    "print(\"smdsamdsamd\")"
   ]
  },
  {
   "cell_type": "code",
   "execution_count": null,
   "id": "a1618271-1d7d-401c-b8e6-918061f7d9b3",
   "metadata": {},
   "outputs": [],
   "source": []
  }
 ],
 "metadata": {
  "kernelspec": {
   "display_name": "Python 3 (ipykernel)",
   "language": "python",
   "name": "python3"
  },
  "language_info": {
   "codemirror_mode": {
    "name": "ipython",
    "version": 3
   },
   "file_extension": ".py",
   "mimetype": "text/x-python",
   "name": "python",
   "nbconvert_exporter": "python",
   "pygments_lexer": "ipython3",
   "version": "3.11.3"
  }
 },
 "nbformat": 4,
 "nbformat_minor": 5
}
